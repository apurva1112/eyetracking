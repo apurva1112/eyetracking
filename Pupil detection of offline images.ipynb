{
 "cells": [
  {
   "cell_type": "code",
   "execution_count": 1,
   "metadata": {},
   "outputs": [],
   "source": [
    "from imutils import face_utils\n",
    "import numpy as np\n",
    "import imutils\n",
    "import dlib\n",
    "import cv2"
   ]
  },
  {
   "cell_type": "code",
   "execution_count": 2,
   "metadata": {},
   "outputs": [],
   "source": [
    "detector = dlib.get_frontal_face_detector()\n",
    "predictor = dlib.shape_predictor('/home/amit/driver1/facial-landmarks/shape_predictor_68_face_landmarks.dat')"
   ]
  },
  {
   "cell_type": "code",
   "execution_count": 3,
   "metadata": {},
   "outputs": [],
   "source": [
    "img = cv2.imread('Face9.jpg',0)\n",
    "#img = imutils.resize(img, width=500)"
   ]
  },
  {
   "cell_type": "code",
   "execution_count": 4,
   "metadata": {},
   "outputs": [],
   "source": [
    "cv2.imshow(\"Image\", img)\n",
    "\n",
    "cv2.waitKey(0)\n",
    "cv2.destroyAllWindows()"
   ]
  },
  {
   "cell_type": "code",
   "execution_count": 5,
   "metadata": {},
   "outputs": [
    {
     "name": "stdout",
     "output_type": "stream",
     "text": [
      "rectangles[[(429, 123) (1809, 1503)]]\n"
     ]
    }
   ],
   "source": [
    "faces = detector(img,1)\n",
    "print(faces)"
   ]
  },
  {
   "cell_type": "code",
   "execution_count": 6,
   "metadata": {},
   "outputs": [],
   "source": [
    "for (i, face) in enumerate(faces):\n",
    "    shape = predictor(img, face)\n",
    "    shape = face_utils.shape_to_np(shape)\n",
    "    for (name, (j, k)) in face_utils.FACIAL_LANDMARKS_IDXS.items():\n",
    "        (x, y, w, h) = cv2.boundingRect(np.array([shape[j:k]]))\n",
    "        roi = img[y:y + h, x:x + w]\n",
    "        roi = imutils.resize(roi, width=250, inter=cv2.INTER_CUBIC)\n",
    "        if(j==36):\n",
    "            right_eye = roi\n",
    "        elif(j==42):\n",
    "            left_eye = roi      "
   ]
  },
  {
   "cell_type": "code",
   "execution_count": 7,
   "metadata": {},
   "outputs": [],
   "source": [
    "cv2.imshow(\"right_eye_first\", right_eye)\n",
    "\n",
    "cv2.waitKey(0)\n",
    "cv2.destroyAllWindows()  "
   ]
  },
  {
   "cell_type": "code",
   "execution_count": 8,
   "metadata": {},
   "outputs": [],
   "source": [
    "#pupil detection using cdf\n",
    "img_flat = right_eye.flatten()\n",
    "\n",
    "hist, bin_edges = np.histogram(img_flat, 256, [0,256])\n",
    "pixel_prob = hist/img_flat.size\n",
    "\n",
    "pixel_cmprob = np.zeros((256,1))\n",
    "pixel_cmprob[0] = pixel_prob[0]\n",
    "\n",
    "for i in range (1,256):\n",
    "    pixel_cmprob[i] = pixel_cmprob[i-1] + pixel_prob[i]\n",
    "    \n",
    "new_img = np.zeros((right_eye.shape[0],right_eye.shape[1]))\n",
    "\n",
    "min_arr = np.array([0,0])\n",
    "for i in range(0, right_eye.shape[0]):\n",
    "    for j in range(0, right_eye.shape[1]):\n",
    "        if pixel_cmprob[right_eye[i,j]] < 0.06:\n",
    "            new_img[i,j] = 255\n",
    "        else:\n",
    "            new_img[i,j] = 0\n",
    "            \n",
    "cv2.imshow(\"right_eye_first\", new_img)\n",
    "\n",
    "cv2.waitKey(0)\n",
    "cv2.destroyAllWindows()            "
   ]
  },
  {
   "cell_type": "code",
   "execution_count": 9,
   "metadata": {},
   "outputs": [],
   "source": [
    "kernel = np.ones((2,2), np.uint8)\n",
    "new_img_er1 = cv2.dilate(new_img, kernel, iterations=1)"
   ]
  },
  {
   "cell_type": "code",
   "execution_count": 10,
   "metadata": {},
   "outputs": [],
   "source": [
    "cv2.imshow(\"Second\", new_img_er1)\n",
    "cv2.imshow(\"Original\", right_eye)\n",
    "\n",
    "cv2.waitKey(0)\n",
    "cv2.destroyAllWindows()"
   ]
  },
  {
   "cell_type": "code",
   "execution_count": 11,
   "metadata": {},
   "outputs": [],
   "source": [
    "min_arr = np.array([0,0])\n",
    "for i in range(0, right_eye.shape[0]):\n",
    "    for j in range(0, right_eye.shape[1]):\n",
    "        if(new_img_er1[i,j]==255):\n",
    "            if(right_eye[i,j]<right_eye[min_arr[0], min_arr[1]]):\n",
    "                min_arr[0] = i\n",
    "                min_arr[1] = j"
   ]
  },
  {
   "cell_type": "code",
   "execution_count": 12,
   "metadata": {},
   "outputs": [
    {
     "name": "stdout",
     "output_type": "stream",
     "text": [
      "31.57\n"
     ]
    }
   ],
   "source": [
    "thresh_val1 = np.mean(right_eye[(min_arr[0]-5):(min_arr[0]+5), (min_arr[1]-5):(min_arr[1]+5)])\n",
    "print(thresh_val1)         "
   ]
  },
  {
   "cell_type": "code",
   "execution_count": 13,
   "metadata": {},
   "outputs": [
    {
     "name": "stdout",
     "output_type": "stream",
     "text": [
      "[[0 0 0 ... 0 0 0]\n",
      " [0 0 0 ... 0 0 0]\n",
      " [0 0 0 ... 0 0 0]\n",
      " ...\n",
      " [0 0 0 ... 0 0 0]\n",
      " [0 0 0 ... 0 0 0]\n",
      " [0 0 0 ... 0 0 0]]\n"
     ]
    }
   ],
   "source": [
    "right_eye_f1 = right_eye\n",
    "_,right_eye_f1 = cv2.threshold(right_eye_f1, thresh_val1, 255, cv2.THRESH_BINARY_INV)\n",
    "print(right_eye_f1)          "
   ]
  },
  {
   "cell_type": "code",
   "execution_count": 14,
   "metadata": {},
   "outputs": [],
   "source": [
    "cv2.imshow(\"right_eye_f1\", right_eye_f1)\n",
    "\n",
    "cv2.waitKey(0)\n",
    "cv2.destroyAllWindows()"
   ]
  },
  {
   "cell_type": "code",
   "execution_count": 15,
   "metadata": {},
   "outputs": [],
   "source": [
    "min_arr = np.array([0,0])\n",
    "for i in range(0, right_eye.shape[0]):\n",
    "    for j in range(0, right_eye.shape[1]):\n",
    "        if(right_eye_f1[i,j]==255):\n",
    "            if(right_eye[i,j]<right_eye[min_arr[0], min_arr[1]]):\n",
    "                min_arr[0] = i\n",
    "                min_arr[1] = j"
   ]
  },
  {
   "cell_type": "code",
   "execution_count": 16,
   "metadata": {},
   "outputs": [
    {
     "name": "stdout",
     "output_type": "stream",
     "text": [
      "39.295918367346935\n"
     ]
    }
   ],
   "source": [
    "thresh_val2 = np.mean(right_eye[(min_arr[0]-7):(min_arr[0]+7), (min_arr[1]-7):(min_arr[1]+7)])\n",
    "print(thresh_val2) "
   ]
  },
  {
   "cell_type": "code",
   "execution_count": 17,
   "metadata": {},
   "outputs": [
    {
     "name": "stdout",
     "output_type": "stream",
     "text": [
      "[[0 0 0 ... 0 0 0]\n",
      " [0 0 0 ... 0 0 0]\n",
      " [0 0 0 ... 0 0 0]\n",
      " ...\n",
      " [0 0 0 ... 0 0 0]\n",
      " [0 0 0 ... 0 0 0]\n",
      " [0 0 0 ... 0 0 0]]\n"
     ]
    }
   ],
   "source": [
    "right_eye_f2 = right_eye\n",
    "_,right_eye_f2 = cv2.threshold(right_eye_f2, thresh_val2, 255, cv2.THRESH_BINARY_INV)\n",
    "print(right_eye_f2)          "
   ]
  },
  {
   "cell_type": "code",
   "execution_count": 18,
   "metadata": {},
   "outputs": [],
   "source": [
    "cv2.imshow(\"right_eye_f2\", right_eye_f2)\n",
    "\n",
    "cv2.waitKey(0)\n",
    "cv2.destroyAllWindows()"
   ]
  },
  {
   "cell_type": "code",
   "execution_count": 19,
   "metadata": {},
   "outputs": [],
   "source": [
    "min_arr = np.array([0,0])\n",
    "for i in range(0, right_eye_f2.shape[0]):\n",
    "    for j in range(0, right_eye_f2.shape[1]):\n",
    "        if(right_eye_f2[i,j]==255):\n",
    "            if(right_eye[i,j]<right_eye[min_arr[0], min_arr[1]]):\n",
    "                       min_arr[0] = i\n",
    "                       min_arr[1] = j"
   ]
  },
  {
   "cell_type": "code",
   "execution_count": 20,
   "metadata": {},
   "outputs": [
    {
     "name": "stdout",
     "output_type": "stream",
     "text": [
      "17 91\n"
     ]
    }
   ],
   "source": [
    "print(min_arr[0],min_arr[1])"
   ]
  },
  {
   "cell_type": "code",
   "execution_count": 21,
   "metadata": {},
   "outputs": [
    {
     "data": {
      "text/plain": [
       "20"
      ]
     },
     "execution_count": 21,
     "metadata": {},
     "output_type": "execute_result"
    }
   ],
   "source": [
    "right_eye[min_arr[0], min_arr[1]]"
   ]
  },
  {
   "cell_type": "code",
   "execution_count": 22,
   "metadata": {},
   "outputs": [],
   "source": [
    "right_eye2 = right_eye"
   ]
  },
  {
   "cell_type": "code",
   "execution_count": 23,
   "metadata": {},
   "outputs": [
    {
     "data": {
      "text/plain": [
       "array([[190, 194, 194, ..., 100, 107, 111],\n",
       "       [189, 190, 189, ...,  94, 100, 105],\n",
       "       [190, 191, 190, ...,  91,  98, 102],\n",
       "       ...,\n",
       "       [145, 148, 152, ..., 108, 102, 109],\n",
       "       [158, 153, 150, ..., 113, 110, 112],\n",
       "       [155, 153, 153, ..., 115, 114, 116]], dtype=uint8)"
      ]
     },
     "execution_count": 23,
     "metadata": {},
     "output_type": "execute_result"
    }
   ],
   "source": [
    "cv2.circle(right_eye2, (min_arr[1],min_arr[0]), 30, (0,0,255), -1)"
   ]
  },
  {
   "cell_type": "code",
   "execution_count": 24,
   "metadata": {},
   "outputs": [],
   "source": [
    "cv2.imshow(\"right_eye2\", right_eye2)\n",
    "\n",
    "cv2.waitKey(0)\n",
    "cv2.destroyAllWindows()"
   ]
  },
  {
   "cell_type": "code",
   "execution_count": null,
   "metadata": {},
   "outputs": [],
   "source": []
  }
 ],
 "metadata": {
  "kernelspec": {
   "display_name": "Python 3",
   "language": "python",
   "name": "python3"
  },
  "language_info": {
   "codemirror_mode": {
    "name": "ipython",
    "version": 3
   },
   "file_extension": ".py",
   "mimetype": "text/x-python",
   "name": "python",
   "nbconvert_exporter": "python",
   "pygments_lexer": "ipython3",
   "version": "3.6.5"
  }
 },
 "nbformat": 4,
 "nbformat_minor": 2
}
